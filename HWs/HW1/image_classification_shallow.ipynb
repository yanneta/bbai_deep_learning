{
 "cells": [
  {
   "cell_type": "markdown",
   "id": "86486734",
   "metadata": {},
   "source": [
    "## Hw 1b: Training a Linear Classifier on Fashion-MNIST\n",
    "\n",
    "In this assignment, you'll build and train a simple image classifier using PyTorch. You'll use the Fashion-MNIST dataset, which contains grayscale images of clothing items (e.g., t-shirts, sneakers, coats). Your goal is to train a linear model (or shallow neural network) to correctly classify each image into one of the 10 categories.\n",
    "\n",
    "This assignment will help you practice:\n",
    "\n",
    "- Loading and visualize image data\n",
    "\n",
    "- Building models with torch.nn\n",
    "\n",
    "- Implementing training and evaluation loops\n",
    "\n",
    "- Measuring model performance\n",
    "\n",
    "By the end, you’ll understand the basics of supervised learning with images using PyTorch.\n",
    "https://www.kaggle.com/datasets/zalando-research/fashionmnist"
   ]
  },
  {
   "cell_type": "code",
   "execution_count": 52,
   "id": "b193601c",
   "metadata": {},
   "outputs": [],
   "source": [
    "import numpy as np\n",
    "import pandas as pd\n",
    "import matplotlib.pyplot as plt\n",
    "import torch\n",
    "import torch.nn.functional as F"
   ]
  },
  {
   "cell_type": "markdown",
   "id": "f5ebffb4",
   "metadata": {},
   "source": [
    "### Download the data\n",
    "Got here and download the data https://www.kaggle.com/datasets/zalando-research/fashionmnist\n",
    "\n",
    "I made a directory `fashion_mnist` and unziped the file inside that directory. Here is what I have:"
   ]
  },
  {
   "cell_type": "code",
   "execution_count": 27,
   "id": "d1cb5c10",
   "metadata": {},
   "outputs": [
    {
     "name": "stdout",
     "output_type": "stream",
     "text": [
      "archive.zip             t10k-images-idx3-ubyte  train-labels-idx1-ubyte\n",
      "fashion-mnist_test.csv  t10k-labels-idx1-ubyte\n",
      "fashion-mnist_train.csv train-images-idx3-ubyte\n"
     ]
    }
   ],
   "source": [
    "! ls fashion_mnist"
   ]
  },
  {
   "cell_type": "code",
   "execution_count": 42,
   "id": "f568bcbf",
   "metadata": {},
   "outputs": [
    {
     "data": {
      "text/plain": [
       "((60000, 785), (10000, 785))"
      ]
     },
     "execution_count": 42,
     "metadata": {},
     "output_type": "execute_result"
    }
   ],
   "source": [
    "# train csv file\n",
    "train_df = pd.read_csv(\"fashion_mnist/fashion-mnist_train.csv\")\n",
    "test_df = pd.read_csv(\"fashion_mnist/fashion-mnist_test.csv\")\n",
    "\n",
    "# each row is an observation, each column is a pixel value\n",
    "train_df.shape, test_df.shape"
   ]
  },
  {
   "cell_type": "code",
   "execution_count": 36,
   "id": "cec33e89",
   "metadata": {},
   "outputs": [
    {
     "data": {
      "text/html": [
       "<div>\n",
       "<style scoped>\n",
       "    .dataframe tbody tr th:only-of-type {\n",
       "        vertical-align: middle;\n",
       "    }\n",
       "\n",
       "    .dataframe tbody tr th {\n",
       "        vertical-align: top;\n",
       "    }\n",
       "\n",
       "    .dataframe thead th {\n",
       "        text-align: right;\n",
       "    }\n",
       "</style>\n",
       "<table border=\"1\" class=\"dataframe\">\n",
       "  <thead>\n",
       "    <tr style=\"text-align: right;\">\n",
       "      <th></th>\n",
       "      <th>label</th>\n",
       "      <th>pixel1</th>\n",
       "      <th>pixel2</th>\n",
       "      <th>pixel3</th>\n",
       "      <th>pixel4</th>\n",
       "      <th>pixel5</th>\n",
       "      <th>pixel6</th>\n",
       "      <th>pixel7</th>\n",
       "      <th>pixel8</th>\n",
       "      <th>pixel9</th>\n",
       "      <th>...</th>\n",
       "      <th>pixel775</th>\n",
       "      <th>pixel776</th>\n",
       "      <th>pixel777</th>\n",
       "      <th>pixel778</th>\n",
       "      <th>pixel779</th>\n",
       "      <th>pixel780</th>\n",
       "      <th>pixel781</th>\n",
       "      <th>pixel782</th>\n",
       "      <th>pixel783</th>\n",
       "      <th>pixel784</th>\n",
       "    </tr>\n",
       "  </thead>\n",
       "  <tbody>\n",
       "    <tr>\n",
       "      <th>0</th>\n",
       "      <td>2</td>\n",
       "      <td>0</td>\n",
       "      <td>0</td>\n",
       "      <td>0</td>\n",
       "      <td>0</td>\n",
       "      <td>0</td>\n",
       "      <td>0</td>\n",
       "      <td>0</td>\n",
       "      <td>0</td>\n",
       "      <td>0</td>\n",
       "      <td>...</td>\n",
       "      <td>0</td>\n",
       "      <td>0</td>\n",
       "      <td>0</td>\n",
       "      <td>0</td>\n",
       "      <td>0</td>\n",
       "      <td>0</td>\n",
       "      <td>0</td>\n",
       "      <td>0</td>\n",
       "      <td>0</td>\n",
       "      <td>0</td>\n",
       "    </tr>\n",
       "    <tr>\n",
       "      <th>1</th>\n",
       "      <td>9</td>\n",
       "      <td>0</td>\n",
       "      <td>0</td>\n",
       "      <td>0</td>\n",
       "      <td>0</td>\n",
       "      <td>0</td>\n",
       "      <td>0</td>\n",
       "      <td>0</td>\n",
       "      <td>0</td>\n",
       "      <td>0</td>\n",
       "      <td>...</td>\n",
       "      <td>0</td>\n",
       "      <td>0</td>\n",
       "      <td>0</td>\n",
       "      <td>0</td>\n",
       "      <td>0</td>\n",
       "      <td>0</td>\n",
       "      <td>0</td>\n",
       "      <td>0</td>\n",
       "      <td>0</td>\n",
       "      <td>0</td>\n",
       "    </tr>\n",
       "  </tbody>\n",
       "</table>\n",
       "<p>2 rows × 785 columns</p>\n",
       "</div>"
      ],
      "text/plain": [
       "   label  pixel1  pixel2  pixel3  pixel4  pixel5  pixel6  pixel7  pixel8  \\\n",
       "0      2       0       0       0       0       0       0       0       0   \n",
       "1      9       0       0       0       0       0       0       0       0   \n",
       "\n",
       "   pixel9  ...  pixel775  pixel776  pixel777  pixel778  pixel779  pixel780  \\\n",
       "0       0  ...         0         0         0         0         0         0   \n",
       "1       0  ...         0         0         0         0         0         0   \n",
       "\n",
       "   pixel781  pixel782  pixel783  pixel784  \n",
       "0         0         0         0         0  \n",
       "1         0         0         0         0  \n",
       "\n",
       "[2 rows x 785 columns]"
      ]
     },
     "execution_count": 36,
     "metadata": {},
     "output_type": "execute_result"
    }
   ],
   "source": [
    "# the first element is the label\n",
    "train_df.head(2)"
   ]
  },
  {
   "cell_type": "code",
   "execution_count": 43,
   "id": "27e9a2f6",
   "metadata": {},
   "outputs": [],
   "source": [
    "# Split labels and pixel data\n",
    "labels_np = train_df.iloc[:, 0].astype(np.int64).values                          \n",
    "images_np = train_df.iloc[:, 1:].astype(np.float32).values\n",
    "\n",
    "test_labels_np = test_df.iloc[:, 0].astype(np.int64).values                          \n",
    "test_images_np = test_df.iloc[:, 1:].astype(np.float32).values"
   ]
  },
  {
   "cell_type": "code",
   "execution_count": 38,
   "id": "f0dcf90a",
   "metadata": {},
   "outputs": [
    {
     "data": {
      "text/plain": [
       "(8, 28, 28)"
      ]
     },
     "execution_count": 38,
     "metadata": {},
     "output_type": "execute_result"
    }
   ],
   "source": [
    "ims = images_np[0:8].reshape(-1, 28, 28)\n",
    "ims.shape"
   ]
  },
  {
   "cell_type": "code",
   "execution_count": 39,
   "id": "8eb12d19",
   "metadata": {},
   "outputs": [],
   "source": [
    "class_names = [\n",
    "    \"T-shirt/top\",  # 0\n",
    "    \"Trouser\",      # 1\n",
    "    \"Pullover\",     # 2\n",
    "    \"Dress\",        # 3\n",
    "    \"Coat\",         # 4\n",
    "    \"Sandal\",       # 5\n",
    "    \"Shirt\",        # 6\n",
    "    \"Sneaker\",      # 7\n",
    "    \"Bag\",          # 8\n",
    "    \"Ankle boot\"    # 9\n",
    "]"
   ]
  },
  {
   "cell_type": "code",
   "execution_count": 40,
   "id": "8dd46039",
   "metadata": {},
   "outputs": [
    {
     "data": {
      "image/png": "[encoded data removed]",
      "text/plain": [
       "<Figure size 800x800 with 8 Axes>"
      ]
     },
     "metadata": {},
     "output_type": "display_data"
    }
   ],
   "source": [
    "N = 8 # number of images to visualize\n",
    "# visualize one image\n",
    "imgs = images_np[0:N].reshape(-1, 28, 28)\n",
    "def show_batch(images, labels):\n",
    "    plt.figure(figsize=(8, 8))\n",
    "    for i in range(N):\n",
    "        img = images[i]\n",
    "        label = class_names[labels[i]]\n",
    "        plt.subplot(4, 4, i + 1)\n",
    "        plt.imshow(img, cmap='gray')\n",
    "        plt.title(label)\n",
    "        plt.axis('off')\n",
    "    plt.tight_layout()\n",
    "    plt.show()\n",
    "\n",
    "show_batch(imgs, labels_np[:N])"
   ]
  },
  {
   "cell_type": "markdown",
   "id": "8e1c1ebb",
   "metadata": {},
   "source": [
    "### Transform numpy to torch tensors\n",
    "Define `X_train`, `Y_train`, `X_test` and `Y_test` your torch tensors from numpy arrays."
   ]
  },
  {
   "cell_type": "code",
   "execution_count": null,
   "id": "eba79629",
   "metadata": {},
   "outputs": [],
   "source": [
    "# your code here"
   ]
  },
  {
   "cell_type": "code",
   "execution_count": 48,
   "id": "d3f21718",
   "metadata": {},
   "outputs": [
    {
     "data": {
      "text/plain": [
       "torch.Size([60000, 784])"
      ]
     },
     "execution_count": 48,
     "metadata": {},
     "output_type": "execute_result"
    }
   ],
   "source": [
    "X_train.shape"
   ]
  },
  {
   "cell_type": "markdown",
   "id": "3d78a782",
   "metadata": {},
   "source": [
    "### Create a model\n",
    "Create a linear model or a shalow neural network that can fit this data."
   ]
  },
  {
   "cell_type": "code",
   "execution_count": null,
   "id": "1fa93d11",
   "metadata": {},
   "outputs": [],
   "source": [
    "# your code here"
   ]
  },
  {
   "cell_type": "code",
   "execution_count": 67,
   "id": "f2383ba9",
   "metadata": {},
   "outputs": [
    {
     "data": {
      "text/plain": [
       "torch.Size([60000, 10])"
      ]
     },
     "execution_count": 67,
     "metadata": {},
     "output_type": "execute_result"
    }
   ],
   "source": [
    "# check that your model run on your data\n",
    "y_hat = model(X_train)\n",
    "y_hat.shape"
   ]
  },
  {
   "cell_type": "markdown",
   "id": "73fc2495",
   "metadata": {},
   "source": [
    "### Compute the training loss \n",
    "Choose an appropriate loss function and compute the loss of the untrained model on the training data.\n",
    "\n",
    "Useful url: https://docs.pytorch.org/docs/stable/generated/torch.nn.functional.cross_entropy.html"
   ]
  },
  {
   "cell_type": "code",
   "execution_count": null,
   "id": "51df93be",
   "metadata": {},
   "outputs": [
    {
     "data": {
      "text/plain": [
       "tensor(35.0827, grad_fn=<NllLossBackward0>)"
      ]
     },
     "execution_count": 68,
     "metadata": {},
     "output_type": "execute_result"
    }
   ],
   "source": [
    "# compute training loss here\n"
   ]
  },
  {
   "cell_type": "markdown",
   "id": "d4e173ba",
   "metadata": {},
   "source": [
    "### Compute accuracy \n",
    "First, compute a **hard prediction**: given a prediction vector containing class probabilities, select the class with the highest probability. This gives you the predicted class label. Then, compare these predicted labels to the true labels to compute the accuracy of the untrained (random) model.\n",
    "\n",
    "Useful url: https://docs.pytorch.org/docs/stable/generated/torch.argmax.html"
   ]
  },
  {
   "cell_type": "code",
   "execution_count": null,
   "id": "c2398faa",
   "metadata": {},
   "outputs": [
    {
     "data": {
      "text/plain": [
       "tensor(0.1106)"
      ]
     },
     "execution_count": 69,
     "metadata": {},
     "output_type": "execute_result"
    }
   ],
   "source": [
    "# compute hard predictions and accuracy here\n",
    "y_pred_class = "
   ]
  },
  {
   "cell_type": "code",
   "execution_count": 70,
   "id": "14ebb2e7",
   "metadata": {},
   "outputs": [
    {
     "data": {
      "text/plain": [
       "torch.Size([60000])"
      ]
     },
     "execution_count": 70,
     "metadata": {},
     "output_type": "execute_result"
    }
   ],
   "source": [
    "y_pred_class.shape"
   ]
  },
  {
   "cell_type": "code",
   "execution_count": 71,
   "id": "5ace4ba3",
   "metadata": {},
   "outputs": [
    {
     "data": {
      "text/plain": [
       "tensor([8, 0, 8, 0, 0, 8, 8, 0, 8, 0])"
      ]
     },
     "execution_count": 71,
     "metadata": {},
     "output_type": "execute_result"
    }
   ],
   "source": [
    "y_pred_class[:10]"
   ]
  },
  {
   "cell_type": "markdown",
   "id": "0b0cce2c",
   "metadata": {},
   "source": [
    "### Train your model\n",
    "Pay attention to the training loss: if it oscillates or fails to decrease steadily, your learning rate may be too high. One strategy is to start with a higher learning rate for a few iterations to accelerate early learning, then reduce it to stabilize training.\n",
    "\n",
    "Hint: I get 78% test accuracy with a linear model."
   ]
  },
  {
   "cell_type": "code",
   "execution_count": null,
   "id": "53133e3a",
   "metadata": {},
   "outputs": [],
   "source": [
    "# your code here"
   ]
  },
  {
   "cell_type": "markdown",
   "id": "c303a5c8",
   "metadata": {},
   "source": [
    "### Compute Accuracy of Test data"
   ]
  },
  {
   "cell_type": "code",
   "execution_count": null,
   "id": "95b9e6a8",
   "metadata": {},
   "outputs": [
    {
     "data": {
      "text/plain": [
       "0.7810999751091003"
      ]
     },
     "execution_count": 95,
     "metadata": {},
     "output_type": "execute_result"
    }
   ],
   "source": [
    "# your code here"
   ]
  },
  {
   "cell_type": "markdown",
   "id": "6d4a3a92",
   "metadata": {},
   "source": [
    "### (Optional): Use 2-layer neural.\n",
    "Try using a 2-layer neural network and aim to achieve the best accuracy you can."
   ]
  }
 ],
 "metadata": {
  "kernelspec": {
   "display_name": "deeplearning-course",
   "language": "python",
   "name": "python3"
  },
  "language_info": {
   "codemirror_mode": {
    "name": "ipython",
    "version": 3
   },
   "file_extension": ".py",
   "mimetype": "text/x-python",
   "name": "python",
   "nbconvert_exporter": "python",
   "pygments_lexer": "ipython3",
   "version": "3.11.11"
  }
 },
 "nbformat": 4,
 "nbformat_minor": 5
}
